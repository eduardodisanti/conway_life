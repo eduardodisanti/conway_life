{
 "cells": [
  {
   "cell_type": "code",
   "execution_count": 157,
   "metadata": {},
   "outputs": [],
   "source": [
    "import matplotlib.pyplot as plt\n",
    "import numpy as np\n",
    "from IPython.display import clear_output\n",
    "import time\n",
    "from matplotlib.animation import FuncAnimation"
   ]
  },
  {
   "cell_type": "code",
   "execution_count": 141,
   "metadata": {},
   "outputs": [],
   "source": [
    "cells = [' ', '*']\n",
    "\n",
    "def animate(i):\n",
    "    x = np.linspace(0, 4, 1000)\n",
    "    y = np.sin(2 * np.pi * (x - 0.01 * i))\n",
    "    line.set_data(x, y)\n",
    "    return line,\n",
    "\n",
    "\n",
    "def randomGrid(N, probabilty=0.1):\n",
    "    \"\"\"creates a grid of NxN with random cells\"\"\"\n",
    "\n",
    "    probabilty = 1-probabilty\n",
    "    A=np.random.rand(N,N)\n",
    "    A[A > probabilty] = 1\n",
    "    A[A <= probabilty] = 0\n",
    "\n",
    "    return A\n",
    "\n",
    "def life_step(grid, N):\n",
    "\n",
    "        newGrid = grid.copy()\n",
    "        for i in range(0,N):\n",
    "            for j in range(0,N):\n",
    "\n",
    "                # compute neighbor sum\n",
    "                #neigh = int((grid[i, (j - 1) % N] + grid[i, (j + 1) % N] +\n",
    "                #             grid[(i - 1) % N, j] + grid[(i + 1) % N, j] +\n",
    "                #             grid[(i - 1) % N, (j - 1) % N] + grid[(i - 1) % N, (j + 1) % N] +\n",
    "                #             grid[(i + 1) % N, (j - 1) % N] + grid[(i + 1) % N, (j + 1) % N]) / 255)\n",
    "\n",
    "                a1 = i - 1\n",
    "                if a1 < 0:\n",
    "                    a1 = 0\n",
    "                a2 = a1 + 3\n",
    "                if a2 > N:\n",
    "                    a2 = N\n",
    "                b1 = j - 1\n",
    "                if b1 < 0:\n",
    "                    b1 = 0\n",
    "                b2 = b1 + 3\n",
    "                if b2 > N:\n",
    "                    b2 = N\n",
    "                \n",
    "                g = grid[a1:a2, b1:b2]\n",
    "                neigh = sum(sum(g))\n",
    "                # Conway's rules for current timestep\n",
    "                if grid[i, j] == 1:\n",
    "                    if (neigh < 2) or (neigh > 3):\n",
    "                        newGrid[i, j] = 0\n",
    "                else:\n",
    "                    if neigh == 3:\n",
    "                        newGrid[i, j] = 1\n",
    "\n",
    "        return newGrid\n"
   ]
  },
  {
   "cell_type": "code",
   "execution_count": 162,
   "metadata": {},
   "outputs": [
    {
     "name": "stdout",
     "output_type": "stream",
     "text": [
      "Generations 217 individuals 278.0\n"
     ]
    },
    {
     "data": {
      "image/png": "[encoded data removed]",
      "text/plain": [
       "<matplotlib.figure.Figure at 0x7f9839e1ed30>"
      ]
     },
     "metadata": {},
     "output_type": "display_data"
    },
    {
     "data": {
      "image/png": "[encoded data removed]",
      "text/plain": [
       "<matplotlib.figure.Figure at 0x7f983a499e80>"
      ]
     },
     "metadata": {},
     "output_type": "display_data"
    },
    {
     "ename": "KeyboardInterrupt",
     "evalue": "",
     "output_type": "error",
     "traceback": [
      "\u001b[0;31m---------------------------------------------------------------------------\u001b[0m",
      "\u001b[0;31mKeyboardInterrupt\u001b[0m                         Traceback (most recent call last)",
      "\u001b[0;32m<ipython-input-162-b13265dd53f5>\u001b[0m in \u001b[0;36m<module>\u001b[0;34m()\u001b[0m\n\u001b[1;32m     26\u001b[0m     \u001b[0mplt\u001b[0m\u001b[0;34m.\u001b[0m\u001b[0mplot\u001b[0m\u001b[0;34m(\u001b[0m\u001b[0mevolution\u001b[0m\u001b[0;34m)\u001b[0m\u001b[0;34m\u001b[0m\u001b[0m\n\u001b[1;32m     27\u001b[0m     \u001b[0mplt\u001b[0m\u001b[0;34m.\u001b[0m\u001b[0mshow\u001b[0m\u001b[0;34m(\u001b[0m\u001b[0;34m)\u001b[0m\u001b[0;34m\u001b[0m\u001b[0m\n\u001b[0;32m---> 28\u001b[0;31m     \u001b[0mtime\u001b[0m\u001b[0;34m.\u001b[0m\u001b[0msleep\u001b[0m\u001b[0;34m(\u001b[0m\u001b[0mupdateInterval\u001b[0m\u001b[0;34m)\u001b[0m\u001b[0;34m\u001b[0m\u001b[0m\n\u001b[0m\u001b[1;32m     29\u001b[0m \u001b[0;34m\u001b[0m\u001b[0m\n\u001b[1;32m     30\u001b[0m     \u001b[0;32mif\u001b[0m \u001b[0mi\u001b[0m \u001b[0;34m==\u001b[0m \u001b[0;36m1000\u001b[0m \u001b[0;32mor\u001b[0m \u001b[0mp\u001b[0m \u001b[0;34m<=\u001b[0m \u001b[0;36m0\u001b[0m\u001b[0;34m:\u001b[0m\u001b[0;34m\u001b[0m\u001b[0m\n",
      "\u001b[0;31mKeyboardInterrupt\u001b[0m: "
     ]
    }
   ],
   "source": [
    "# set grid size\n",
    "N = 100\n",
    "\n",
    "updateInterval = 0.5\n",
    "\n",
    "grid = randomGrid(N, 0.10)\n",
    "\n",
    "# set up animation\n",
    "fig, ax = plt.subplots()\n",
    "running = True\n",
    "img = ax.imshow(grid, interpolation='nearest', cmap=\"gray\")\n",
    "\n",
    "i = 0\n",
    "evolution = []\n",
    "while running:\n",
    "\n",
    "    p = sum(sum(grid))\n",
    "    clear_output()\n",
    "    print(\"Generations\", i, \"individuals\", p)\n",
    "    grid = life_step(grid, N)\n",
    "    #draw_grid(0,0,grid)\n",
    "    \n",
    "    #anim = FuncAnimation(fig, animate, init_func=init, frames=200, interval=20, blit=True)\n",
    "    plt.imshow(grid, interpolation='nearest', cmap=\"gray\")\n",
    "    plt.show()\n",
    "    plt.plot(evolution)\n",
    "    plt.show()\n",
    "    time.sleep(updateInterval)\n",
    "\n",
    "    if i == 1000 or p <= 0:\n",
    "        break\n",
    "    i+=1\n",
    "    evolution.append(p)"
   ]
  },
  {
   "cell_type": "code",
   "execution_count": null,
   "metadata": {},
   "outputs": [],
   "source": [
    "plt.plot(evolution)"
   ]
  },
  {
   "cell_type": "code",
   "execution_count": 128,
   "metadata": {},
   "outputs": [
    {
     "data": {
      "image/png": "[encoded data removed]",
      "text/plain": [
       "<matplotlib.figure.Figure at 0x7f983a23df28>"
      ]
     },
     "metadata": {},
     "output_type": "display_data"
    }
   ],
   "source": [
    "grid = randomGrid(N, 0.10)\n",
    "plt.imshow(grid, interpolation='nearest', cmap=\"gray\")\n",
    "plt.show()"
   ]
  },
  {
   "cell_type": "code",
   "execution_count": null,
   "metadata": {},
   "outputs": [],
   "source": []
  },
  {
   "cell_type": "code",
   "execution_count": null,
   "metadata": {},
   "outputs": [],
   "source": []
  },
  {
   "cell_type": "code",
   "execution_count": null,
   "metadata": {},
   "outputs": [],
   "source": []
  },
  {
   "cell_type": "code",
   "execution_count": null,
   "metadata": {},
   "outputs": [],
   "source": []
  },
  {
   "cell_type": "code",
   "execution_count": null,
   "metadata": {},
   "outputs": [],
   "source": []
  },
  {
   "cell_type": "code",
   "execution_count": null,
   "metadata": {},
   "outputs": [],
   "source": []
  },
  {
   "cell_type": "code",
   "execution_count": null,
   "metadata": {},
   "outputs": [],
   "source": []
  },
  {
   "cell_type": "code",
   "execution_count": null,
   "metadata": {},
   "outputs": [],
   "source": []
  }
 ],
 "metadata": {
  "kernelspec": {
   "display_name": "Python 3",
   "language": "python",
   "name": "python3"
  },
  "language_info": {
   "codemirror_mode": {
    "name": "ipython",
    "version": 3
   },
   "file_extension": ".py",
   "mimetype": "text/x-python",
   "name": "python",
   "nbconvert_exporter": "python",
   "pygments_lexer": "ipython3",
   "version": "3.6.4"
  }
 },
 "nbformat": 4,
 "nbformat_minor": 2
}
